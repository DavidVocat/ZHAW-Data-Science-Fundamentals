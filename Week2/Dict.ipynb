{
 "cells": [
  {
   "cell_type": "code",
   "execution_count": null,
   "metadata": {},
   "outputs": [],
   "source": [
    "phoneBook = {'bob':\"9999\", \"Alice\":\"32168\"}\n",
    "print(phoneBook['Alice'])\n",
    "phoneBook['Heidi'] = \"079 / ?\"\n",
    "del phoneBook['bob']\n",
    "print(phoneBook)"
   ]
  }
 ],
 "metadata": {
  "language_info": {
   "name": "python"
  }
 },
 "nbformat": 4,
 "nbformat_minor": 2
}
