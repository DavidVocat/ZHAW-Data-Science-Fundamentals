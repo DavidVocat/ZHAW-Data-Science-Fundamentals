{
 "cells": [
  {
   "cell_type": "code",
   "execution_count": 1,
   "metadata": {},
   "outputs": [
    {
     "name": "stdout",
     "output_type": "stream",
     "text": [
      "[23, 42, 99, 'problem', 99.9]\n",
      "[23, 42, 0, 99, 'problem', 99.9]\n",
      "[23, 42, 99, 'problem', 99.9]\n",
      "[23, 42, 99, 'problem']\n"
     ]
    }
   ],
   "source": [
    "kewl = [23, 42, 99, \"problem\"]\n",
    "kewl.append(99.9)\n",
    "print(kewl)\n",
    "kewl.insert(2, 0)\n",
    "print(kewl)\n",
    "kewl.remove(0)\n",
    "print(kewl)\n",
    "kewl.pop(-1)\n",
    "print(kewl)"
   ]
  }
 ],
 "metadata": {
  "kernelspec": {
   "display_name": "Python 3",
   "language": "python",
   "name": "python3"
  },
  "language_info": {
   "codemirror_mode": {
    "name": "ipython",
    "version": 3
   },
   "file_extension": ".py",
   "mimetype": "text/x-python",
   "name": "python",
   "nbconvert_exporter": "python",
   "pygments_lexer": "ipython3",
   "version": "3.11.7"
  }
 },
 "nbformat": 4,
 "nbformat_minor": 2
}
