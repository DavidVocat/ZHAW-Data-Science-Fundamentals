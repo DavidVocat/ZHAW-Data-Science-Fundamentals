{
 "cells": [
  {
   "cell_type": "code",
   "execution_count": null,
   "metadata": {},
   "outputs": [],
   "source": [
    "def demo_function(param1, param2, param3): # def keyword defines the funktion\n",
    "    print(param1) # Indent defines scope\n",
    "    if param1 < 99:\n",
    "        result = param2 + param3\n",
    "    return result\n",
    "s = demo_function(3.13, 1, 2) # Functions must be defined before they are called"
   ]
  }
 ],
 "metadata": {
  "language_info": {
   "name": "python"
  }
 },
 "nbformat": 4,
 "nbformat_minor": 2
}
