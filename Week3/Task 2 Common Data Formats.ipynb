{
 "cells": [
  {
   "cell_type": "markdown",
   "metadata": {},
   "source": [
    "<font size=\"3\"><b>Section 2: Common data formats:</b></font><br>\n",
    "        <font size=\"3\">1. Read the explanations about the different file-formats.</font><br>\n",
    "        <font size=\"3\">2. Create your own example-files for each file-format.</font><br>\n",
    "        <font size=\"3\">3. Read your example files and show header info of files in the Jupyter notebook.</font><br>\n",
    "        <br>"
   ]
  },
  {
   "cell_type": "code",
   "execution_count": null,
   "metadata": {},
   "outputs": [],
   "source": []
  }
 ],
 "metadata": {
  "language_info": {
   "name": "python"
  },
  "orig_nbformat": 4
 },
 "nbformat": 4,
 "nbformat_minor": 2
}
